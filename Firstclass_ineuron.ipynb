{
 "cells": [
  {
   "cell_type": "code",
   "execution_count": 1,
   "metadata": {},
   "outputs": [
    {
     "data": {
      "text/plain": [
       "['j', 'k', 'd', 'f', 'g', 'k', 'd', 'g', 'j']"
      ]
     },
     "execution_count": 1,
     "metadata": {},
     "output_type": "execute_result"
    }
   ],
   "source": [
    "l=list(\"jkdfgkdgj\")\n",
    "l"
   ]
  },
  {
   "cell_type": "code",
   "execution_count": 3,
   "metadata": {},
   "outputs": [
    {
     "name": "stdout",
     "output_type": "stream",
     "text": [
      "j\n",
      "k\n",
      "d\n",
      "f\n",
      "g\n",
      "k\n",
      "d\n",
      "g\n",
      "j\n"
     ]
    }
   ],
   "source": [
    "for element in l:\n",
    "    print((element))"
   ]
  },
  {
   "cell_type": "code",
   "execution_count": 7,
   "metadata": {},
   "outputs": [
    {
     "name": "stdout",
     "output_type": "stream",
     "text": [
      "Fsdfsf\n",
      "fsdfs\n",
      "sdffsfs\n",
      "3\n"
     ]
    }
   ],
   "source": [
    "# List of numbers\n",
    "numbers = [\"Fsdfsf\",\"fsdfs\",\"sdffsfs\"]\n",
    "\n",
    "# variable to store the sum\n",
    "summ=0\n",
    "\n",
    "# iterate over the list\n",
    "for x in numbers:\n",
    "    print(x)\n",
    "    summ = summ+1\n",
    "\n",
    "# Output: The sum is 48\n",
    "print(summ)\n"
   ]
  },
  {
   "cell_type": "code",
   "execution_count": 9,
   "metadata": {},
   "outputs": [
    {
     "ename": "IndentationError",
     "evalue": "expected an indented block (<ipython-input-9-5ea5ae6d69c9>, line 6)",
     "output_type": "error",
     "traceback": [
      "\u001b[1;36m  File \u001b[1;32m\"<ipython-input-9-5ea5ae6d69c9>\"\u001b[1;36m, line \u001b[1;32m6\u001b[0m\n\u001b[1;33m    else:\u001b[0m\n\u001b[1;37m       ^\u001b[0m\n\u001b[1;31mIndentationError\u001b[0m\u001b[1;31m:\u001b[0m expected an indented block\n"
     ]
    }
   ],
   "source": [
    "digits = [0, 1, 5]\n",
    "\n",
    "for sfdsf in [0,1,2,3]:\n",
    "    if sfdsf == 3:\n",
    "        #break\n",
    "else:\n",
    "    print(\"No items left.\")\n",
    "print(\"Fsdfsfsf\")"
   ]
  }
 ],
 "metadata": {
  "kernelspec": {
   "display_name": "Python 3",
   "language": "python",
   "name": "python3"
  },
  "language_info": {
   "codemirror_mode": {
    "name": "ipython",
    "version": 3
   },
   "file_extension": ".py",
   "mimetype": "text/x-python",
   "name": "python",
   "nbconvert_exporter": "python",
   "pygments_lexer": "ipython3",
   "version": "3.7.3"
  }
 },
 "nbformat": 4,
 "nbformat_minor": 2
}
